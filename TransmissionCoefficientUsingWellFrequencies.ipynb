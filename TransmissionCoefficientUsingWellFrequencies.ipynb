{
 "cells": [
  {
   "cell_type": "code",
   "execution_count": 2,
   "id": "52047d61",
   "metadata": {},
   "outputs": [],
   "source": [
    "import numpy as np\n",
    "import matplotlib.pyplot as plt\n",
    "from scipy import integrate\n",
    "import pandas as pd\n",
    "from scipy import interpolate\n",
    "from numpy import polynomial\n",
    "from scipy import optimize"
   ]
  },
  {
   "cell_type": "markdown",
   "id": "b1f1b413",
   "metadata": {},
   "source": [
    "Hydrogen Barrier Energy - 7.113769623553246e-20 \n",
    "\n",
    "Deuterium Barrier Energy - 7.787798009000183e-20\n",
    "\n",
    "Hydrogen Well Frequency - 593334077003661.5\n",
    "\n",
    "Deuterium Well Frequency - 438357914964142.5\n",
    "\n",
    "Hydrogen Barrier Frequency - 304003801201848.1\n",
    "\n",
    "Deuterium Barrier Frequency - 223862618702505.94"
   ]
  },
  {
   "cell_type": "markdown",
   "id": "f81ca8ea",
   "metadata": {},
   "source": [
    "# Using quartic potential "
   ]
  },
  {
   "cell_type": "code",
   "execution_count": 4,
   "id": "423b8028",
   "metadata": {},
   "outputs": [],
   "source": [
    "def potential(q, omega_b, omega_0, E_b):\n",
    "    q_0 = ((12*E_b)/(m*(omega_b**2 + omega_0**2)))**0.5\n",
    "    a_2 = -0.5*m*(omega_b**2)\n",
    "    a_3 = ((2*(omega_b**2) - omega_0**2)*(m**1.5)*(omega_b**3))/(3*q_0*(m**0.5)*(omega_b**3))\n",
    "    a_4 = ((omega_0**2 - omega_b**2)*(m**2)*(omega_b**4))/(4*(q_0**2)*m*(omega_0)**4)\n",
    "    V = a_2*(q**2) + a_3*((abs(q))**3) + a_4**(q**4)\n",
    "    return(V)"
   ]
  },
  {
   "cell_type": "code",
   "execution_count": 5,
   "id": "31292ed5",
   "metadata": {},
   "outputs": [],
   "source": [
    "def integrand(q, omega_b, omega_0, E_b, E_proton):\n",
    "    return((potential(q, omega_b, omega_0, E_b)-E_proton)**0.5)"
   ]
  },
  {
   "cell_type": "code",
   "execution_count": 8,
   "id": "ff874ccb",
   "metadata": {},
   "outputs": [],
   "source": [
    "def double_well(omega_b, omega_0, E_b, E_proton):\n",
    "    m = 1.66054e-27\n",
    "    q_0 = ((12*E_b)/(m*(omega_b**2 + omega_0**2)))**0.5\n",
    "    print(q_0)\n",
    "    q = np.linspace(-q_0, q_0, 1000000)\n",
    "    V = np.zeros(1000000)\n",
    "    \n",
    "    for i in range(len(q)):\n",
    "        V[i] = potential(q[i], omega_b, omega_0, E_b)\n",
    "        \n",
    "    difference = abs(V - E_proton)\n",
    "    root = abs(q[np.where(difference == min(difference))])\n",
    "    \n",
    "    I = integrate.quad(integrand, -root[0], root[0], args=(omega_b, omega_0, E_b, E_proton))\n",
    "    T = np.exp(-I[0])\n",
    "    plt.plot(q, V)\n",
    "#     plt.plot(root[0], E_proton, 'k+')\n",
    "#     plt.plot(-root[0], E_proton, 'k+')\n",
    "#     plt.axhline(E_proton, color ='r', linestyle ='--')\n",
    "#     return(T)"
   ]
  },
  {
   "cell_type": "code",
   "execution_count": 36,
   "id": "f7ca3546",
   "metadata": {},
   "outputs": [
    {
     "name": "stdout",
     "output_type": "stream",
     "text": [
      "3.400930305739575e-11\n"
     ]
    },
    {
     "ename": "NameError",
     "evalue": "name 'm' is not defined",
     "output_type": "error",
     "traceback": [
      "\u001b[0;31m---------------------------------------------------------------------------\u001b[0m",
      "\u001b[0;31mNameError\u001b[0m                                 Traceback (most recent call last)",
      "\u001b[0;32m<timed exec>\u001b[0m in \u001b[0;36m<module>\u001b[0;34m\u001b[0m\n",
      "\u001b[0;32m<ipython-input-8-c1fee8a12349>\u001b[0m in \u001b[0;36mdouble_well\u001b[0;34m(omega_b, omega_0, E_b, E_proton)\u001b[0m\n\u001b[1;32m      7\u001b[0m \u001b[0;34m\u001b[0m\u001b[0m\n\u001b[1;32m      8\u001b[0m     \u001b[0;32mfor\u001b[0m \u001b[0mi\u001b[0m \u001b[0;32min\u001b[0m \u001b[0mrange\u001b[0m\u001b[0;34m(\u001b[0m\u001b[0mlen\u001b[0m\u001b[0;34m(\u001b[0m\u001b[0mq\u001b[0m\u001b[0;34m)\u001b[0m\u001b[0;34m)\u001b[0m\u001b[0;34m:\u001b[0m\u001b[0;34m\u001b[0m\u001b[0;34m\u001b[0m\u001b[0m\n\u001b[0;32m----> 9\u001b[0;31m         \u001b[0mV\u001b[0m\u001b[0;34m[\u001b[0m\u001b[0mi\u001b[0m\u001b[0;34m]\u001b[0m \u001b[0;34m=\u001b[0m \u001b[0mpotential\u001b[0m\u001b[0;34m(\u001b[0m\u001b[0mq\u001b[0m\u001b[0;34m[\u001b[0m\u001b[0mi\u001b[0m\u001b[0;34m]\u001b[0m\u001b[0;34m,\u001b[0m \u001b[0momega_b\u001b[0m\u001b[0;34m,\u001b[0m \u001b[0momega_0\u001b[0m\u001b[0;34m,\u001b[0m \u001b[0mE_b\u001b[0m\u001b[0;34m)\u001b[0m\u001b[0;34m\u001b[0m\u001b[0;34m\u001b[0m\u001b[0m\n\u001b[0m\u001b[1;32m     10\u001b[0m \u001b[0;34m\u001b[0m\u001b[0m\n\u001b[1;32m     11\u001b[0m     \u001b[0mdifference\u001b[0m \u001b[0;34m=\u001b[0m \u001b[0mabs\u001b[0m\u001b[0;34m(\u001b[0m\u001b[0mV\u001b[0m \u001b[0;34m-\u001b[0m \u001b[0mE_proton\u001b[0m\u001b[0;34m)\u001b[0m\u001b[0;34m\u001b[0m\u001b[0;34m\u001b[0m\u001b[0m\n",
      "\u001b[0;32m<ipython-input-4-f38b1143a361>\u001b[0m in \u001b[0;36mpotential\u001b[0;34m(q, omega_b, omega_0, E_b)\u001b[0m\n\u001b[1;32m      1\u001b[0m \u001b[0;32mdef\u001b[0m \u001b[0mpotential\u001b[0m\u001b[0;34m(\u001b[0m\u001b[0mq\u001b[0m\u001b[0;34m,\u001b[0m \u001b[0momega_b\u001b[0m\u001b[0;34m,\u001b[0m \u001b[0momega_0\u001b[0m\u001b[0;34m,\u001b[0m \u001b[0mE_b\u001b[0m\u001b[0;34m)\u001b[0m\u001b[0;34m:\u001b[0m\u001b[0;34m\u001b[0m\u001b[0;34m\u001b[0m\u001b[0m\n\u001b[0;32m----> 2\u001b[0;31m     \u001b[0mq_0\u001b[0m \u001b[0;34m=\u001b[0m \u001b[0;34m(\u001b[0m\u001b[0;34m(\u001b[0m\u001b[0;36m12\u001b[0m\u001b[0;34m*\u001b[0m\u001b[0mE_b\u001b[0m\u001b[0;34m)\u001b[0m\u001b[0;34m/\u001b[0m\u001b[0;34m(\u001b[0m\u001b[0mm\u001b[0m\u001b[0;34m*\u001b[0m\u001b[0;34m(\u001b[0m\u001b[0momega_b\u001b[0m\u001b[0;34m**\u001b[0m\u001b[0;36m2\u001b[0m \u001b[0;34m+\u001b[0m \u001b[0momega_0\u001b[0m\u001b[0;34m**\u001b[0m\u001b[0;36m2\u001b[0m\u001b[0;34m)\u001b[0m\u001b[0;34m)\u001b[0m\u001b[0;34m)\u001b[0m\u001b[0;34m**\u001b[0m\u001b[0;36m0.5\u001b[0m\u001b[0;34m\u001b[0m\u001b[0;34m\u001b[0m\u001b[0m\n\u001b[0m\u001b[1;32m      3\u001b[0m     \u001b[0ma_2\u001b[0m \u001b[0;34m=\u001b[0m \u001b[0;34m-\u001b[0m\u001b[0;36m0.5\u001b[0m\u001b[0;34m*\u001b[0m\u001b[0mm\u001b[0m\u001b[0;34m*\u001b[0m\u001b[0;34m(\u001b[0m\u001b[0momega_b\u001b[0m\u001b[0;34m**\u001b[0m\u001b[0;36m2\u001b[0m\u001b[0;34m)\u001b[0m\u001b[0;34m\u001b[0m\u001b[0;34m\u001b[0m\u001b[0m\n\u001b[1;32m      4\u001b[0m     \u001b[0ma_3\u001b[0m \u001b[0;34m=\u001b[0m \u001b[0;34m(\u001b[0m\u001b[0;34m(\u001b[0m\u001b[0;36m2\u001b[0m\u001b[0;34m*\u001b[0m\u001b[0;34m(\u001b[0m\u001b[0momega_b\u001b[0m\u001b[0;34m**\u001b[0m\u001b[0;36m2\u001b[0m\u001b[0;34m)\u001b[0m \u001b[0;34m-\u001b[0m \u001b[0momega_0\u001b[0m\u001b[0;34m**\u001b[0m\u001b[0;36m2\u001b[0m\u001b[0;34m)\u001b[0m\u001b[0;34m*\u001b[0m\u001b[0;34m(\u001b[0m\u001b[0mm\u001b[0m\u001b[0;34m**\u001b[0m\u001b[0;36m1.5\u001b[0m\u001b[0;34m)\u001b[0m\u001b[0;34m*\u001b[0m\u001b[0;34m(\u001b[0m\u001b[0momega_b\u001b[0m\u001b[0;34m**\u001b[0m\u001b[0;36m3\u001b[0m\u001b[0;34m)\u001b[0m\u001b[0;34m)\u001b[0m\u001b[0;34m/\u001b[0m\u001b[0;34m(\u001b[0m\u001b[0;36m3\u001b[0m\u001b[0;34m*\u001b[0m\u001b[0mq_0\u001b[0m\u001b[0;34m*\u001b[0m\u001b[0;34m(\u001b[0m\u001b[0mm\u001b[0m\u001b[0;34m**\u001b[0m\u001b[0;36m0.5\u001b[0m\u001b[0;34m)\u001b[0m\u001b[0;34m*\u001b[0m\u001b[0;34m(\u001b[0m\u001b[0momega_b\u001b[0m\u001b[0;34m**\u001b[0m\u001b[0;36m3\u001b[0m\u001b[0;34m)\u001b[0m\u001b[0;34m)\u001b[0m\u001b[0;34m\u001b[0m\u001b[0;34m\u001b[0m\u001b[0m\n\u001b[1;32m      5\u001b[0m     \u001b[0ma_4\u001b[0m \u001b[0;34m=\u001b[0m \u001b[0;34m(\u001b[0m\u001b[0;34m(\u001b[0m\u001b[0momega_0\u001b[0m\u001b[0;34m**\u001b[0m\u001b[0;36m2\u001b[0m \u001b[0;34m-\u001b[0m \u001b[0momega_b\u001b[0m\u001b[0;34m**\u001b[0m\u001b[0;36m2\u001b[0m\u001b[0;34m)\u001b[0m\u001b[0;34m*\u001b[0m\u001b[0;34m(\u001b[0m\u001b[0mm\u001b[0m\u001b[0;34m**\u001b[0m\u001b[0;36m2\u001b[0m\u001b[0;34m)\u001b[0m\u001b[0;34m*\u001b[0m\u001b[0;34m(\u001b[0m\u001b[0momega_b\u001b[0m\u001b[0;34m**\u001b[0m\u001b[0;36m4\u001b[0m\u001b[0;34m)\u001b[0m\u001b[0;34m)\u001b[0m\u001b[0;34m/\u001b[0m\u001b[0;34m(\u001b[0m\u001b[0;36m4\u001b[0m\u001b[0;34m*\u001b[0m\u001b[0;34m(\u001b[0m\u001b[0mq_0\u001b[0m\u001b[0;34m**\u001b[0m\u001b[0;36m2\u001b[0m\u001b[0;34m)\u001b[0m\u001b[0;34m*\u001b[0m\u001b[0mm\u001b[0m\u001b[0;34m*\u001b[0m\u001b[0;34m(\u001b[0m\u001b[0momega_0\u001b[0m\u001b[0;34m)\u001b[0m\u001b[0;34m**\u001b[0m\u001b[0;36m4\u001b[0m\u001b[0;34m)\u001b[0m\u001b[0;34m\u001b[0m\u001b[0;34m\u001b[0m\u001b[0m\n",
      "\u001b[0;31mNameError\u001b[0m: name 'm' is not defined"
     ]
    }
   ],
   "source": [
    "%%time\n",
    "a = double_well(omega_b=304003801201848.1, omega_0=593334077003661.5 , E_b=7.113769623553246e-20, E_proton=2.4367589999999998e-21)"
   ]
  },
  {
   "cell_type": "code",
   "execution_count": 11,
   "id": "cb34dfef",
   "metadata": {},
   "outputs": [],
   "source": [
    "# %%time\n",
    "# T_values = np.zeros(50)\n",
    "# E_values = np.linspace(-0.9, -0.1, 50)\n",
    "# for i in range(len(T_values)):\n",
    "#     T_values[i] = double_well(1, 1, 1, E_values[i])\n",
    "# plt.plot(E_values, T_values)"
   ]
  },
  {
   "cell_type": "markdown",
   "id": "c90e7fcf",
   "metadata": {},
   "source": [
    "## Using double harmonic potential "
   ]
  },
  {
   "cell_type": "code",
   "execution_count": 12,
   "id": "0928c942",
   "metadata": {},
   "outputs": [],
   "source": [
    "def harmonic_1(x, k):\n",
    "    return(0.5*k*(x**2))"
   ]
  },
  {
   "cell_type": "code",
   "execution_count": 33,
   "id": "d6ef1e1c",
   "metadata": {},
   "outputs": [],
   "source": [
    "def integrand_1(x, k, E_proton):\n",
    "    return((harmonic_1(x, k) - E_proton)**0.5)"
   ]
  },
  {
   "cell_type": "code",
   "execution_count": 25,
   "id": "3d978957",
   "metadata": {},
   "outputs": [],
   "source": [
    "def harmonic_2(x, k, a):\n",
    "    return(0.5*k*(x-2*a)**2)"
   ]
  },
  {
   "cell_type": "code",
   "execution_count": 26,
   "id": "fcfee91a",
   "metadata": {},
   "outputs": [],
   "source": [
    "def integrand_2(x, k, a, E_proton):\n",
    "    return((harmonic_2(x, k, a) - E_proton)**0.5)"
   ]
  },
  {
   "cell_type": "markdown",
   "id": "02ce33c5",
   "metadata": {},
   "source": [
    "Reduced mass of hydrogen and carbon = ((1x12)/(1+12))u = 1.5328061538461539e-27\n",
    "\n",
    "Hydrogen Well Frequency = 593334077003661.5\n",
    "\n",
    "Hydrogen Force Constant = $\\omega_0^2\\mu$ = 539.6172435568898\n",
    "\n",
    "Hydrogen Energy Barrier = 7.113769623553246e-20 \n",
    "\n",
    "$E_b = ka^2/2$\n",
    "\n",
    "$a = \\sqrt(2E_b/k)$ = 1.6237605527900583e-11"
   ]
  },
  {
   "cell_type": "markdown",
   "id": "62da1694",
   "metadata": {},
   "source": [
    "Reduced mass of deuterium and carbon = ((2x12)/(2+12))u = 2.8466399999999998e-27\n",
    "\n",
    "Deuterium Well Frequency = 438357914964142.5\n",
    "\n",
    "Deuterium Force Constant = $\\omega_0^2\\mu$ = 547.0036858503591"
   ]
  },
  {
   "cell_type": "code",
   "execution_count": 34,
   "id": "9ec65498",
   "metadata": {},
   "outputs": [],
   "source": [
    "def harmonic_transmission(k, E_barrier, E_proton, a):\n",
    "    x = np.linspace(0, 2*a, 1000000)\n",
    "    har_1 = np.zeros(1000000)\n",
    "    har_2 = np.zeros(1000000)\n",
    "    \n",
    "    for i in range(len(x)):\n",
    "        har_1[i] = harmonic_1(x[i], k)\n",
    "        har_2[i] = harmonic_2(x[i], k, a)\n",
    "    \n",
    "    difference_1 = abs(har_1 - E_proton)\n",
    "    root_1 = x[np.where(difference_1 == min(difference_1))]\n",
    "    \n",
    "    difference_2 = abs(har_2 - E_proton)\n",
    "    root_2 = x[np.where(difference_2 == min(difference_2))]\n",
    "    \n",
    "    I1 = integrate.quad(integrand_1, root_1, a, args=(k, E_proton))\n",
    "    I2 = integrate.quad(integrand_2, a, root_2, args=(k, a, E_proton))\n",
    "    \n",
    "    plt.plot(x, har_1)\n",
    "    plt.plot(x, har_2)\n",
    "    plt.axhline(E_proton, c='r', ls='--')\n",
    "    return(I1, I2)"
   ]
  },
  {
   "cell_type": "code",
   "execution_count": 35,
   "id": "934f97e9",
   "metadata": {},
   "outputs": [
    {
     "data": {
      "image/png": "[encoded data removed]",
      "text/plain": [
       "<Figure size 432x288 with 1 Axes>"
      ]
     },
     "metadata": {
      "needs_background": "light"
     },
     "output_type": "display_data"
    }
   ],
   "source": [
    "a = harmonic_transmission(543, 9.023789852e-20, 2.057094e-21, 2.7672e-11)"
   ]
  },
  {
   "cell_type": "markdown",
   "id": "911462c9",
   "metadata": {},
   "source": [
    "# Interpolating IRC Data"
   ]
  },
  {
   "cell_type": "code",
   "execution_count": 72,
   "id": "9fece356",
   "metadata": {},
   "outputs": [],
   "source": [
    "IRC1 = pd.read_csv('./TightDataForConditions1+2/IRCCondition1.tsv', sep='\\t')"
   ]
  },
  {
   "cell_type": "code",
   "execution_count": 74,
   "id": "6b36b129",
   "metadata": {
    "scrolled": true
   },
   "outputs": [
    {
     "data": {
      "text/plain": [
       "[<matplotlib.lines.Line2D at 0x7fbe847b9e50>]"
      ]
     },
     "execution_count": 74,
     "metadata": {},
     "output_type": "execute_result"
    },
    {
     "data": {
      "image/png": "[encoded data removed]",
      "text/plain": [
       "<Figure size 432x288 with 1 Axes>"
      ]
     },
     "metadata": {
      "needs_background": "light"
     },
     "output_type": "display_data"
    }
   ],
   "source": [
    "plt.plot(IRC1['IRC'], IRC1['Total energy/hartree'])"
   ]
  },
  {
   "cell_type": "code",
   "execution_count": 77,
   "id": "00bfb8b9",
   "metadata": {},
   "outputs": [],
   "source": [
    "a = interpolate.interp1d(IRC1['IRC'], IRC1['Total energy/hartree'])"
   ]
  },
  {
   "cell_type": "code",
   "execution_count": 104,
   "id": "da780940",
   "metadata": {},
   "outputs": [
    {
     "data": {
      "text/plain": [
       "20    0.000000\n",
       "21   -0.104964\n",
       "22   -0.209901\n",
       "23   -0.314839\n",
       "24   -0.419747\n",
       "25   -0.524505\n",
       "26   -0.628789\n",
       "27   -0.733107\n",
       "28   -0.837828\n",
       "29   -0.942592\n",
       "30   -1.047385\n",
       "31   -1.152224\n",
       "32   -1.257102\n",
       "33   -1.362003\n",
       "34   -1.466918\n",
       "35   -1.571849\n",
       "36   -1.676788\n",
       "37   -1.781735\n",
       "38   -1.886684\n",
       "39   -1.991636\n",
       "40   -2.096590\n",
       "Name: IRC, dtype: float64"
      ]
     },
     "execution_count": 104,
     "metadata": {},
     "output_type": "execute_result"
    }
   ],
   "source": [
    "IRC1['IRC'][20:41]"
   ]
  },
  {
   "cell_type": "code",
   "execution_count": 119,
   "id": "a0da01b9",
   "metadata": {},
   "outputs": [],
   "source": [
    "b = polynomial.polynomial.Polynomial.fit(IRC1['IRC'], IRC1['Total energy/hartree'], 4)"
   ]
  },
  {
   "cell_type": "code",
   "execution_count": 117,
   "id": "73e28cf1",
   "metadata": {},
   "outputs": [
    {
     "data": {
      "text/latex": [
       "$x \\mapsto \\text{-367.71154609627456} - \\text{0.010839559208896019}\\,\\left(\\text{-0.00012297985076225253} + \\text{0.4769063898951243}x\\right) - \\text{0.07468418889131051}\\,\\left(\\text{-0.00012297985076225253} + \\text{0.4769063898951243}x\\right)^{2} + \\text{0.007322144669126809}\\,\\left(\\text{-0.00012297985076225253} + \\text{0.4769063898951243}x\\right)^{3} + \\text{0.11901716434587874}\\,\\left(\\text{-0.00012297985076225253} + \\text{0.4769063898951243}x\\right)^{4} - \\text{0.0029590015829892282}\\,\\left(\\text{-0.00012297985076225253} + \\text{0.4769063898951243}x\\right)^{5} - \\text{0.06368380946704179}\\,\\left(\\text{-0.00012297985076225253} + \\text{0.4769063898951243}x\\right)^{6}$"
      ],
      "text/plain": [
       "Polynomial([-3.67711546e+02, -1.08395592e-02, -7.46841889e-02,  7.32214467e-03,\n",
       "        1.19017164e-01, -2.95900158e-03, -6.36838095e-02], domain=[-2.09658969,  2.09710543], window=[-1.,  1.])"
      ]
     },
     "execution_count": 117,
     "metadata": {},
     "output_type": "execute_result"
    }
   ],
   "source": [
    "b"
   ]
  },
  {
   "cell_type": "code",
   "execution_count": 81,
   "id": "72ad9e0f",
   "metadata": {},
   "outputs": [
    {
     "data": {
      "text/plain": [
       "[<matplotlib.lines.Line2D at 0x7fbe84846940>]"
      ]
     },
     "execution_count": 81,
     "metadata": {},
     "output_type": "execute_result"
    },
    {
     "data": {
      "image/png": "[encoded data removed]",
      "text/plain": [
       "<Figure size 432x288 with 1 Axes>"
      ]
     },
     "metadata": {
      "needs_background": "light"
     },
     "output_type": "display_data"
    }
   ],
   "source": [
    "x = np.linspace(-2.09,2.09, 10000)\n",
    "y = np.zeros(10000)\n",
    "for i in range(len(x)):\n",
    "    y[i] = a(x[i])\n",
    "plt.plot(x, y)"
   ]
  },
  {
   "cell_type": "code",
   "execution_count": 120,
   "id": "d03ccdc4",
   "metadata": {},
   "outputs": [
    {
     "data": {
      "text/plain": [
       "[<matplotlib.lines.Line2D at 0x7fbe899ed160>]"
      ]
     },
     "execution_count": 120,
     "metadata": {},
     "output_type": "execute_result"
    },
    {
     "data": {
      "image/png": "[encoded data removed]",
      "text/plain": [
       "<Figure size 432x288 with 1 Axes>"
      ]
     },
     "metadata": {
      "needs_background": "light"
     },
     "output_type": "display_data"
    }
   ],
   "source": [
    "x = np.linspace(-2.09, 2.09, 10000)\n",
    "y = np.zeros(10000)\n",
    "for i in range(len(x)):\n",
    "    y[i] = b(x[i])\n",
    "plt.plot(x, y)"
   ]
  },
  {
   "cell_type": "code",
   "execution_count": 151,
   "id": "2e5b7e40",
   "metadata": {},
   "outputs": [],
   "source": [
    "N = len(IRC1['IRC'])\n",
    "sigma = np.ones(N)\n",
    "sigma[[0, 20, 40]] = 0.01"
   ]
  },
  {
   "cell_type": "code",
   "execution_count": 152,
   "id": "29526443",
   "metadata": {
    "scrolled": true
   },
   "outputs": [],
   "source": [
    "def f(x, a_0, a_1, a_2, a_3, a_4):\n",
    "    return(a_0 + a_1*x + a_2*(x**2) + a_3*(x**3) + a_4*(x**4))"
   ]
  },
  {
   "cell_type": "code",
   "execution_count": 153,
   "id": "518e4981",
   "metadata": {},
   "outputs": [],
   "source": [
    "p1 = optimize.curve_fit(f, IRC1['IRC'], IRC1['Total energy/hartree'], sigma=sigma)\n",
    "p2 = optimize.curve_fit(f, IRC1['IRC'], IRC1['Total energy/hartree'], sigma=np.ones(N))"
   ]
  },
  {
   "cell_type": "code",
   "execution_count": 167,
   "id": "e489d5e3",
   "metadata": {},
   "outputs": [
    {
     "data": {
      "text/plain": [
       "(array([-3.67709196e+02, -4.68092899e-03, -1.28278352e-02,  3.58103043e-04,\n",
       "         1.84752949e-03]),\n",
       " array([[ 9.90562356e-10,  7.86462349e-14, -9.01600897e-10,\n",
       "         -8.83806423e-14,  1.53821523e-10],\n",
       "        [ 7.86462349e-14,  7.40539899e-07, -7.84877074e-11,\n",
       "         -1.68570530e-07,  2.24640302e-12],\n",
       "        [-9.01600897e-10, -7.84877074e-11,  5.06112988e-07,\n",
       "          8.96071704e-11, -1.15068817e-07],\n",
       "        [-8.83806423e-14, -1.68570530e-07,  8.96071704e-11,\n",
       "          3.83778847e-08, -1.68266613e-11],\n",
       "        [ 1.53821523e-10,  2.24640302e-12, -1.15068817e-07,\n",
       "         -1.68266613e-11,  2.61657853e-08]]))"
      ]
     },
     "execution_count": 167,
     "metadata": {},
     "output_type": "execute_result"
    }
   ],
   "source": [
    "p1"
   ]
  },
  {
   "cell_type": "code",
   "execution_count": 164,
   "id": "05817ad5",
   "metadata": {
    "scrolled": true
   },
   "outputs": [
    {
     "data": {
      "text/plain": [
       "[<matplotlib.lines.Line2D at 0x7fbe8a7bbdc0>]"
      ]
     },
     "execution_count": 164,
     "metadata": {},
     "output_type": "execute_result"
    },
    {
     "data": {
      "image/png": "[encoded data removed]",
      "text/plain": [
       "<Figure size 432x288 with 1 Axes>"
      ]
     },
     "metadata": {
      "needs_background": "light"
     },
     "output_type": "display_data"
    }
   ],
   "source": [
    "x = np.linspace(-2.09, 2.09, 10000)\n",
    "y1 = np.zeros(10000)\n",
    "y2 = np.zeros(10000)\n",
    "for i in range(len(x)):\n",
    "    y1[i] = f(x[i], p1[0][0], p1[0][1], p1[0][2], p1[0][3], p1[0][4])\n",
    "    y2[i] = f(x[i], p2[0][0], p2[0][1], p2[0][2], p2[0][3], p2[0][4])\n",
    "plt.figure()\n",
    "plt.plot(x, y1)\n",
    "# plt.plot(x, y2)"
   ]
  },
  {
   "cell_type": "code",
   "execution_count": 166,
   "id": "5031e741",
   "metadata": {},
   "outputs": [
    {
     "data": {
      "text/plain": [
       "0.0"
      ]
     },
     "execution_count": 166,
     "metadata": {},
     "output_type": "execute_result"
    }
   ],
   "source": [
    "IRC1['IRC'][20]"
   ]
  },
  {
   "cell_type": "code",
   "execution_count": 169,
   "id": "ac96b66b",
   "metadata": {},
   "outputs": [
    {
     "data": {
      "text/plain": [
       "-367.7131116867503"
      ]
     },
     "execution_count": 169,
     "metadata": {},
     "output_type": "execute_result"
    }
   ],
   "source": [
    "y2[5000]"
   ]
  },
  {
   "cell_type": "code",
   "execution_count": 136,
   "id": "7842141f",
   "metadata": {},
   "outputs": [
    {
     "data": {
      "text/plain": [
       "(array([-3.67713111e+02, -4.79595782e-03, -9.81451838e-03,  4.19296540e-04,\n",
       "         1.46608095e-03]),\n",
       " array([[ 3.13247035e-07,  9.81900095e-11, -3.18193367e-07,\n",
       "         -3.84667741e-11,  6.22632044e-08],\n",
       "        [ 9.81900095e-11,  3.62353480e-07, -3.24264157e-10,\n",
       "         -1.10034891e-07,  8.41958313e-11],\n",
       "        [-3.18193367e-07, -3.24264157e-10,  5.81258658e-07,\n",
       "          1.45103736e-10, -1.35277943e-07],\n",
       "        [-3.84667741e-11, -1.10034891e-07,  1.45103736e-10,\n",
       "          3.97560981e-08, -4.03873128e-11],\n",
       "        [ 6.22632044e-08,  8.41958313e-11, -1.35277943e-07,\n",
       "         -4.03873128e-11,  3.42541369e-08]]))"
      ]
     },
     "execution_count": 136,
     "metadata": {},
     "output_type": "execute_result"
    }
   ],
   "source": [
    "p2"
   ]
  },
  {
   "cell_type": "code",
   "execution_count": null,
   "id": "ec88a229",
   "metadata": {},
   "outputs": [],
   "source": []
  }
 ],
 "metadata": {
  "kernelspec": {
   "display_name": "Python 3",
   "language": "python",
   "name": "python3"
  },
  "language_info": {
   "codemirror_mode": {
    "name": "ipython",
    "version": 3
   },
   "file_extension": ".py",
   "mimetype": "text/x-python",
   "name": "python",
   "nbconvert_exporter": "python",
   "pygments_lexer": "ipython3",
   "version": "3.9.5"
  }
 },
 "nbformat": 4,
 "nbformat_minor": 5
}
