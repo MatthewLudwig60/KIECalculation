{
 "cells": [
  {
   "cell_type": "markdown",
   "id": "674ec26f",
   "metadata": {},
   "source": [
    "# $$k(T) = \\kappa \\frac{k_BT}{hc^{\\circ}}e^{-\\Delta^{\\ddagger}G^{\\circ}/RT}$$"
   ]
  },
  {
   "cell_type": "code",
   "execution_count": 1,
   "id": "aea78a7e",
   "metadata": {},
   "outputs": [],
   "source": [
    "import numpy as np\n",
    "import pandas as pd\n",
    "import matplotlib.pyplot as plt"
   ]
  },
  {
   "cell_type": "code",
   "execution_count": 2,
   "id": "75ff920d",
   "metadata": {},
   "outputs": [],
   "source": [
    "u = 1.66054e-27\n",
    "A = 1e-10\n",
    "T = 298\n",
    "kB = 1.3806e-23\n",
    "h = 6.6261e-34\n",
    "c = 2.9979e10\n",
    "hartree = 4.35974e-18\n",
    "bohr = 5.29177e-11\n",
    "R = 8.3145\n",
    "NA = 6.0221e23"
   ]
  },
  {
   "cell_type": "code",
   "execution_count": 3,
   "id": "a9809b07",
   "metadata": {},
   "outputs": [],
   "source": [
    "def Eyring(deltaG, c_standard, kappa):\n",
    "    deltaG = deltaG*hartree*NA\n",
    "    print(deltaG/(R*T))\n",
    "    rate = ((kB*T)/(h*c_standard))*np.exp(-deltaG/(R*T))\n",
    "    tunnel_rate = kappa*rate\n",
    "    print(f'The rate of reaction is {rate} 1/s')\n",
    "    print(f'The tunnelling-corrected rate of reaction is {tunnel_rate} 1/s')"
   ]
  },
  {
   "cell_type": "code",
   "execution_count": 5,
   "id": "5ef32ea3",
   "metadata": {},
   "outputs": [
    {
     "name": "stdout",
     "output_type": "stream",
     "text": [
      "44.895660498971665\n",
      "The rate of reaction is 1.9728248563721856e-07 1/s\n",
      "The tunnelling-corrected rate of reaction is 1.9728248563721856e-07 1/s\n"
     ]
    }
   ],
   "source": [
    "Eyring(0.042369, 1, 1)"
   ]
  },
  {
   "cell_type": "code",
   "execution_count": null,
   "id": "b18928f9",
   "metadata": {},
   "outputs": [],
   "source": []
  }
 ],
 "metadata": {
  "kernelspec": {
   "display_name": "Python 3",
   "language": "python",
   "name": "python3"
  },
  "language_info": {
   "codemirror_mode": {
    "name": "ipython",
    "version": 3
   },
   "file_extension": ".py",
   "mimetype": "text/x-python",
   "name": "python",
   "nbconvert_exporter": "python",
   "pygments_lexer": "ipython3",
   "version": "3.9.5"
  }
 },
 "nbformat": 4,
 "nbformat_minor": 5
}
