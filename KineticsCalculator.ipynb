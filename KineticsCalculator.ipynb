{
 "cells": [
  {
   "cell_type": "code",
   "execution_count": 1,
   "id": "53549aa1",
   "metadata": {},
   "outputs": [],
   "source": [
    "import numpy as np\n",
    "import pandas as pd\n",
    "import matplotlib.pyplot as plt"
   ]
  },
  {
   "cell_type": "code",
   "execution_count": 43,
   "id": "9734df3e",
   "metadata": {},
   "outputs": [],
   "source": [
    "k1 = 7.5778e-1\n",
    "k2 = 1.9520e-16\n",
    "k3 = 3.1614e-2\n",
    "k4 = 3.6708e-29 #(in per ns)"
   ]
  },
  {
   "cell_type": "code",
   "execution_count": 44,
   "id": "e15076d0",
   "metadata": {},
   "outputs": [],
   "source": [
    "# k1 = 0.01\n",
    "# k2 = 1e-16\n",
    "# k3 = 0.0001\n",
    "# k4 = 1e-25"
   ]
  },
  {
   "cell_type": "code",
   "execution_count": 45,
   "id": "9152efb0",
   "metadata": {},
   "outputs": [],
   "source": [
    "def timestep(A, B, C):\n",
    "    delta_A = -A*(k1 + k3) + k2*B + k4*C\n",
    "    delta_B = k1*A - k2*B\n",
    "    delta_C = k3*A - k4*C\n",
    "    \n",
    "    A += delta_A\n",
    "    B += delta_B\n",
    "    C += delta_C\n",
    "    \n",
    "    return([A, B, C])"
   ]
  },
  {
   "cell_type": "code",
   "execution_count": 46,
   "id": "725e04b8",
   "metadata": {},
   "outputs": [],
   "source": [
    "def simulation(A_initial, B_initial, C_initial, num_steps):\n",
    "    A_values = [A_initial]\n",
    "    B_values = [B_initial]\n",
    "    C_values = [C_initial]\n",
    "    \n",
    "    for i in range(num_steps):\n",
    "        dummy = timestep(A_values[-1], B_values[-1], C_values[-1])\n",
    "        A_values.append(dummy[0])\n",
    "        B_values.append(dummy[1])\n",
    "        C_values.append(dummy[2])\n",
    "    \n",
    "    output = {'Timestep':np.linspace(0, num_steps, num_steps+1), 'A':A_values, 'B':B_values, 'C':C_values}\n",
    "    df = pd.DataFrame(output)\n",
    "    return(df)"
   ]
  },
  {
   "cell_type": "code",
   "execution_count": 49,
   "id": "9c6ca2b5",
   "metadata": {},
   "outputs": [
    {
     "data": {
      "text/html": [
       "<div>\n",
       "<style scoped>\n",
       "    .dataframe tbody tr th:only-of-type {\n",
       "        vertical-align: middle;\n",
       "    }\n",
       "\n",
       "    .dataframe tbody tr th {\n",
       "        vertical-align: top;\n",
       "    }\n",
       "\n",
       "    .dataframe thead th {\n",
       "        text-align: right;\n",
       "    }\n",
       "</style>\n",
       "<table border=\"1\" class=\"dataframe\">\n",
       "  <thead>\n",
       "    <tr style=\"text-align: right;\">\n",
       "      <th></th>\n",
       "      <th>Timestep</th>\n",
       "      <th>A</th>\n",
       "      <th>B</th>\n",
       "      <th>C</th>\n",
       "    </tr>\n",
       "  </thead>\n",
       "  <tbody>\n",
       "    <tr>\n",
       "      <th>0</th>\n",
       "      <td>0.0</td>\n",
       "      <td>1.000000e+00</td>\n",
       "      <td>0.000000</td>\n",
       "      <td>0.000000</td>\n",
       "    </tr>\n",
       "    <tr>\n",
       "      <th>1</th>\n",
       "      <td>1.0</td>\n",
       "      <td>2.106060e-01</td>\n",
       "      <td>0.757780</td>\n",
       "      <td>0.031614</td>\n",
       "    </tr>\n",
       "    <tr>\n",
       "      <th>2</th>\n",
       "      <td>2.0</td>\n",
       "      <td>4.435489e-02</td>\n",
       "      <td>0.917373</td>\n",
       "      <td>0.038272</td>\n",
       "    </tr>\n",
       "    <tr>\n",
       "      <th>3</th>\n",
       "      <td>3.0</td>\n",
       "      <td>9.341405e-03</td>\n",
       "      <td>0.950984</td>\n",
       "      <td>0.039674</td>\n",
       "    </tr>\n",
       "    <tr>\n",
       "      <th>4</th>\n",
       "      <td>4.0</td>\n",
       "      <td>1.967356e-03</td>\n",
       "      <td>0.958063</td>\n",
       "      <td>0.039970</td>\n",
       "    </tr>\n",
       "    <tr>\n",
       "      <th>...</th>\n",
       "      <td>...</td>\n",
       "      <td>...</td>\n",
       "      <td>...</td>\n",
       "      <td>...</td>\n",
       "    </tr>\n",
       "    <tr>\n",
       "      <th>9999996</th>\n",
       "      <td>9999996.0</td>\n",
       "      <td>2.373752e-16</td>\n",
       "      <td>0.959952</td>\n",
       "      <td>0.040048</td>\n",
       "    </tr>\n",
       "    <tr>\n",
       "      <th>9999997</th>\n",
       "      <td>9999997.0</td>\n",
       "      <td>2.373752e-16</td>\n",
       "      <td>0.959952</td>\n",
       "      <td>0.040048</td>\n",
       "    </tr>\n",
       "    <tr>\n",
       "      <th>9999998</th>\n",
       "      <td>9999998.0</td>\n",
       "      <td>2.373752e-16</td>\n",
       "      <td>0.959952</td>\n",
       "      <td>0.040048</td>\n",
       "    </tr>\n",
       "    <tr>\n",
       "      <th>9999999</th>\n",
       "      <td>9999999.0</td>\n",
       "      <td>2.373752e-16</td>\n",
       "      <td>0.959952</td>\n",
       "      <td>0.040048</td>\n",
       "    </tr>\n",
       "    <tr>\n",
       "      <th>10000000</th>\n",
       "      <td>10000000.0</td>\n",
       "      <td>2.373752e-16</td>\n",
       "      <td>0.959952</td>\n",
       "      <td>0.040048</td>\n",
       "    </tr>\n",
       "  </tbody>\n",
       "</table>\n",
       "<p>10000001 rows × 4 columns</p>\n",
       "</div>"
      ],
      "text/plain": [
       "            Timestep             A         B         C\n",
       "0                0.0  1.000000e+00  0.000000  0.000000\n",
       "1                1.0  2.106060e-01  0.757780  0.031614\n",
       "2                2.0  4.435489e-02  0.917373  0.038272\n",
       "3                3.0  9.341405e-03  0.950984  0.039674\n",
       "4                4.0  1.967356e-03  0.958063  0.039970\n",
       "...              ...           ...       ...       ...\n",
       "9999996    9999996.0  2.373752e-16  0.959952  0.040048\n",
       "9999997    9999997.0  2.373752e-16  0.959952  0.040048\n",
       "9999998    9999998.0  2.373752e-16  0.959952  0.040048\n",
       "9999999    9999999.0  2.373752e-16  0.959952  0.040048\n",
       "10000000  10000000.0  2.373752e-16  0.959952  0.040048\n",
       "\n",
       "[10000001 rows x 4 columns]"
      ]
     },
     "execution_count": 49,
     "metadata": {},
     "output_type": "execute_result"
    }
   ],
   "source": [
    "simulation(1, 0, 0, 10000000)"
   ]
  },
  {
   "cell_type": "code",
   "execution_count": 4,
   "id": "040e9e5e",
   "metadata": {},
   "outputs": [
    {
     "data": {
      "text/plain": [
       "array([ 0.,  1.,  2.,  3.,  4.,  5.,  6.,  7.,  8.,  9., 10.])"
      ]
     },
     "execution_count": 4,
     "metadata": {},
     "output_type": "execute_result"
    }
   ],
   "source": [
    "np.linspace(0, 10, 11)"
   ]
  },
  {
   "cell_type": "code",
   "execution_count": null,
   "id": "a2eacf61",
   "metadata": {},
   "outputs": [],
   "source": []
  }
 ],
 "metadata": {
  "kernelspec": {
   "display_name": "Python 3",
   "language": "python",
   "name": "python3"
  },
  "language_info": {
   "codemirror_mode": {
    "name": "ipython",
    "version": 3
   },
   "file_extension": ".py",
   "mimetype": "text/x-python",
   "name": "python",
   "nbconvert_exporter": "python",
   "pygments_lexer": "ipython3",
   "version": "3.9.5"
  }
 },
 "nbformat": 4,
 "nbformat_minor": 5
}
