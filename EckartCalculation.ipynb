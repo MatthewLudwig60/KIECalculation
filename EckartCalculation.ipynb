{
 "cells": [
  {
   "cell_type": "code",
   "execution_count": 2,
   "id": "50572e6d",
   "metadata": {},
   "outputs": [],
   "source": [
    "import numpy as np\n",
    "import pandas as pd\n",
    "from scipy import integrate\n",
    "import matplotlib.pyplot as plt"
   ]
  },
  {
   "cell_type": "markdown",
   "id": "1492a7c9",
   "metadata": {},
   "source": [
    "V1 is the forward barrier energy\n",
    "\n",
    "V2 is the reverse barrier energy\n",
    "\n",
    "nu is the linear frequency of the reaction mode "
   ]
  },
  {
   "cell_type": "code",
   "execution_count": 3,
   "id": "a403db5b",
   "metadata": {},
   "outputs": [],
   "source": [
    "h = 6.6261e-34\n",
    "T=298\n",
    "kB = 1.3806e-23\n",
    "beta = 1/(kB*T)"
   ]
  },
  {
   "cell_type": "markdown",
   "id": "277e93cc",
   "metadata": {},
   "source": [
    "Using TS IRC Pass 2 data:\n",
    "\n",
    "V1 = 0.014181 Hartree = 6.182547294e-20 J\n",
    "\n",
    "V2 = 0.0272012 Hartree = 1.185901597e-19 J\n",
    "\n",
    "nu = 4.838370768e13 Hz"
   ]
  },
  {
   "cell_type": "markdown",
   "id": "61c8b224",
   "metadata": {},
   "source": [
    "## Johnston and Heicklen 1961"
   ]
  },
  {
   "cell_type": "code",
   "execution_count": 4,
   "id": "a994cd94",
   "metadata": {},
   "outputs": [],
   "source": [
    "def alpha_1(E, V1, V2, nu):\n",
    "    return((2*np.pi*V1)/(h*nu))"
   ]
  },
  {
   "cell_type": "code",
   "execution_count": 5,
   "id": "69d667ac",
   "metadata": {},
   "outputs": [],
   "source": [
    "def alpha_2(E, V1, V2, nu):\n",
    "    return((2*np.pi*V2)/(h*nu))"
   ]
  },
  {
   "cell_type": "code",
   "execution_count": 231,
   "id": "a801b699",
   "metadata": {},
   "outputs": [],
   "source": [
    "# def xi(E, V1, V2, nu):\n",
    "#     return(E/V1)"
   ]
  },
  {
   "cell_type": "code",
   "execution_count": 232,
   "id": "1fcf6da1",
   "metadata": {},
   "outputs": [],
   "source": [
    "# def Kappa(E, V1, V2, nu):\n",
    "#     al_2 = alpha_1(E, V1, V2, nu)\n",
    "#     al_1 = alpha_2(E, V1, V2, nu)\n",
    "#     x = xi(E, V1, V2, nu)\n",
    "    \n",
    "#     a = 2*np.sqrt(al_1*x)*((np.sqrt(1/al_1) + np.sqrt(1/al_2))**(-1))\n",
    "#     b = 2*np.sqrt((1+x)*al_1 - al_2)*((np.sqrt(1/al_1)+np.sqrt(1/al_2))**(-1))\n",
    "#     d = 2*np.sqrt(al_1*al_2-((np.pi)**2)/4)\n",
    "    \n",
    "#     result = 1 - ((np.cosh(a-b) + np.cosh(d))/(np.cosh(a+b) + np.cosh(d)))\n",
    "#     return(result)"
   ]
  },
  {
   "cell_type": "code",
   "execution_count": 233,
   "id": "fc445822",
   "metadata": {},
   "outputs": [],
   "source": [
    "# Kappa(E=-1e-19, V1=6.18e-21, V2=1.186e-20, nu=4.838e13)"
   ]
  },
  {
   "cell_type": "code",
   "execution_count": 234,
   "id": "69ada74a",
   "metadata": {
    "scrolled": true
   },
   "outputs": [],
   "source": [
    "# x = np.linspace(0, 1e-16, 100000)\n",
    "# value = np.zeros(len(x))\n",
    "# for i in range(len(x)):\n",
    "#     value[i] = integrand(E=x[i], V1=6.18e-20, V2=1.186e-19, nu=4.838e13)\n",
    "# plt.plot(x, value)\n",
    "# value[-500]"
   ]
  },
  {
   "cell_type": "code",
   "execution_count": 235,
   "id": "5c2bda8f",
   "metadata": {},
   "outputs": [],
   "source": [
    "# def integrand(E, V1, V2, nu):\n",
    "#     return(np.exp(-E*beta)*Kappa(E, V1, V2, nu))"
   ]
  },
  {
   "cell_type": "code",
   "execution_count": 236,
   "id": "d17c8329",
   "metadata": {},
   "outputs": [],
   "source": [
    "# def quantum_correction(V1, V2, nu):\n",
    "#     trial = V1/1000\n",
    "#     converged = False\n",
    "#     while converged == False:\n",
    "#         if integrand(trial, V1, V2, nu) > 1e-20:\n",
    "#             trial += V1/100\n",
    "#         else:\n",
    "#             converged = True\n",
    "#     print(trial)\n",
    "#     return(beta*np.exp(V1*beta)*integrate.fixed_quad(integrand, -1e-19, 1e-15, args=(V1, V2, nu), n=6)[0])"
   ]
  },
  {
   "cell_type": "code",
   "execution_count": 237,
   "id": "ba9e9c38",
   "metadata": {},
   "outputs": [],
   "source": [
    "# quantum_correction(V1=6.18e-21, V2=1.186e-20, nu=4.838e13)"
   ]
  },
  {
   "cell_type": "markdown",
   "id": "33d021ad",
   "metadata": {},
   "source": [
    "## Brown 1981"
   ]
  },
  {
   "cell_type": "code",
   "execution_count": 252,
   "id": "86ee83b0",
   "metadata": {},
   "outputs": [],
   "source": [
    "al_1 = 12.1\n",
    "al_2 = 23.2"
   ]
  },
  {
   "cell_type": "code",
   "execution_count": 238,
   "id": "1cb1cba7",
   "metadata": {},
   "outputs": [],
   "source": [
    "def epsilon(E, V1, V2, nu):\n",
    "    return((E-V1)/(kB*T))"
   ]
  },
  {
   "cell_type": "code",
   "execution_count": 253,
   "id": "6d1110f8",
   "metadata": {},
   "outputs": [],
   "source": [
    "def Kappa(eps, V1, V2, nu):\n",
    "#     al_1 = alpha_1(E, V1, V2, nu)\n",
    "#     al_2 = alpha_2(E, V1, V2, nu)\n",
    "    u_star = (h*nu)/(kB*T)\n",
    "    c = (np.pi/8)*u_star*((np.sqrt(1/al_1) + np.sqrt(1/al_2))**2)\n",
    "    \n",
    "    v1 = V1/(kB*T)\n",
    "    v2 = V2/(kB*T)\n",
    "    a1 = np.pi*np.sqrt((eps + v1)/c)\n",
    "    a2 = np.pi*np.sqrt((eps + v2)/c)\n",
    "    \n",
    "    d = np.sqrt(4*np.pi*al_1*al_2 - (np.pi)**2)\n",
    "    D = np.cosh(d)\n",
    "    \n",
    "    result = (np.cosh(a1 + a2) - np.cosh(a1 - a2))/(np.cosh(a1 + a2) + D)\n",
    "    return(result)"
   ]
  },
  {
   "cell_type": "code",
   "execution_count": 288,
   "id": "3365f760",
   "metadata": {},
   "outputs": [
    {
     "data": {
      "text/plain": [
       "3269017.3724721107"
      ]
     },
     "execution_count": 288,
     "metadata": {},
     "output_type": "execute_result"
    }
   ],
   "source": [
    "Kappa(eps=1e3, V1=6.18e-20, V2=1.186e-19, nu=4.838e13)*np.exp(15)"
   ]
  },
  {
   "cell_type": "code",
   "execution_count": 286,
   "id": "625c8e71",
   "metadata": {},
   "outputs": [],
   "source": [
    "def integrand(eps, V1, V2, nu):\n",
    "    return(np.exp(-eps)*Kappa(eps, V1, V2, nu))"
   ]
  },
  {
   "cell_type": "code",
   "execution_count": 276,
   "id": "709a595e",
   "metadata": {},
   "outputs": [],
   "source": [
    "def quantum_correction(V1, V2, nu):\n",
    "    epsilon_0 = -V1/(kB*T)\n",
    "    print(integrate.quad(integrand, epsilon_0, 100, args=(V1, V2, nu)))"
   ]
  },
  {
   "cell_type": "code",
   "execution_count": 277,
   "id": "26e6c73c",
   "metadata": {},
   "outputs": [
    {
     "name": "stdout",
     "output_type": "stream",
     "text": [
      "(1.51312918237432e-10, 5.298975295561361e-11)\n"
     ]
    }
   ],
   "source": [
    "quantum_correction(V1=6.18e-20, V2=1.186e-19, nu=4.838e13)"
   ]
  },
  {
   "cell_type": "markdown",
   "id": "fc53dbe3",
   "metadata": {},
   "source": [
    "## Brown 1981 (transcribed from FORTRAN routine)"
   ]
  },
  {
   "cell_type": "code",
   "execution_count": 11,
   "id": "a0c7db3b",
   "metadata": {},
   "outputs": [],
   "source": [
    "def eckart(alpha1, alpha2, u): #u is imaginary barrier frequency * hc/k_BT\n",
    "    Data_X = [-.9324695,-.6612094,-.2386192,.2386192,.6612094,.9324695]\n",
    "    Data_W = [.1713245,.3607616,.4679139,.4679139,.3607616,.1713245]\n",
    "    \n",
    "    c = (np.pi*u/8)*(((alpha1**-0.5)+(alpha2**-0.5))**2)\n",
    "    \n",
    "    v1 = (u/(2*np.pi))*alpha1\n",
    "    v2 = (u/(2*np.pi))*alpha2\n",
    "    print(v1)\n",
    "    \n",
    "    d = 4*alpha1*alpha2-(np.pi)**2\n",
    "    if d < 0:\n",
    "        D = np.cos((-d)**0.5)\n",
    "    else:\n",
    "        D = np.cosh((d)**0.5)\n",
    "    \n",
    "    if v2 >= v1:\n",
    "        EZ = -v1\n",
    "    else:\n",
    "        EZ = -v2\n",
    "        \n",
    "    EB = min((c*((np.log(2*(1+D)/0.014)/(2*np.pi))**2)-0.5*(v1 + v2)), 3.2) \n",
    "    \n",
    "    EM = 0.5*(EB - EZ)\n",
    "    \n",
    "    EP = 0.5*(EB + EZ)\n",
    "    \n",
    "    G = 0\n",
    "    for i in range(len(Data_X)):\n",
    "        E = EM*Data_X[i] + EP\n",
    "        A1 = np.pi*(((E+v1)/c)**0.5)\n",
    "        A2 = np.pi*(((E+v2)/c)**0.5)\n",
    "        FP = np.cosh(A1+A2)\n",
    "        FM = np.cosh(A1-A2)\n",
    "        G += Data_W[i]*np.exp(-E)*(FP-FM)/(FP+D)\n",
    "    G = EM*G+np.exp(-EB)\n",
    "    \n",
    "    return(G)"
   ]
  },
  {
   "cell_type": "code",
   "execution_count": 12,
   "id": "e207535b",
   "metadata": {},
   "outputs": [
    {
     "name": "stdout",
     "output_type": "stream",
     "text": [
      "3.5287694483027416\n"
     ]
    },
    {
     "data": {
      "text/plain": [
       "3.0805164180642417"
      ]
     },
     "execution_count": 12,
     "metadata": {},
     "output_type": "execute_result"
    }
   ],
   "source": [
    "eckart(3.7065, 18.019, 5.9819)"
   ]
  },
  {
   "cell_type": "code",
   "execution_count": null,
   "id": "89b07527",
   "metadata": {},
   "outputs": [],
   "source": []
  }
 ],
 "metadata": {
  "kernelspec": {
   "display_name": "Python 3",
   "language": "python",
   "name": "python3"
  },
  "language_info": {
   "codemirror_mode": {
    "name": "ipython",
    "version": 3
   },
   "file_extension": ".py",
   "mimetype": "text/x-python",
   "name": "python",
   "nbconvert_exporter": "python",
   "pygments_lexer": "ipython3",
   "version": "3.9.5"
  }
 },
 "nbformat": 4,
 "nbformat_minor": 5
}
