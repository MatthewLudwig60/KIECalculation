{
 "cells": [
  {
   "cell_type": "code",
   "execution_count": 2,
   "id": "763dcd12",
   "metadata": {},
   "outputs": [],
   "source": [
    "import numpy as np\n",
    "import pandas as pd\n",
    "import matplotlib.pyplot as plt"
   ]
  },
  {
   "cell_type": "code",
   "execution_count": 3,
   "id": "f1ecaed7",
   "metadata": {},
   "outputs": [],
   "source": [
    "u = 1.66054e-27\n",
    "A = 1e-10\n",
    "T = 298\n",
    "kB = 1.3806e-23\n",
    "h = 6.6261e-34\n",
    "c = 2.9979e10\n",
    "hartree = 4.35974e-18\n",
    "bohr = 5.29177e-11"
   ]
  },
  {
   "cell_type": "code",
   "execution_count": 26,
   "id": "e1e9742f",
   "metadata": {},
   "outputs": [],
   "source": [
    "def eckart(alpha1, alpha2, u): #nu is dimensionless imaginary barrier frequency, input barrier energies given in joules\n",
    "    Data_X = [-.9324695,-.6612094,-.2386192,.2386192,.6612094,.9324695]\n",
    "    Data_W = [.1713245,.3607616,.4679139,.4679139,.3607616,.1713245]\n",
    "    \n",
    "    nu = (u*kB*T)/h\n",
    "    \n",
    "    V1 = (alpha1*h*nu)/(2*np.pi)\n",
    "    V2 = (alpha2*h*nu)/(2*np.pi)\n",
    "    \n",
    "    c = (np.pi*u/8)*(((alpha1**-0.5)+(alpha2**-0.5))**2)\n",
    "    \n",
    "    v1 = V1/(kB*T)\n",
    "    v2 = V2/(kB*T)\n",
    "    \n",
    "    d = 4*alpha1*alpha2-(np.pi)**2\n",
    "    if d < 0:\n",
    "        D = np.cos((-d)**0.5)\n",
    "    else:\n",
    "        D = np.cosh((d)**0.5)\n",
    "        \n",
    "    if v2 >= v1:\n",
    "        EZ = -v1\n",
    "    else:\n",
    "        EZ = -v2\n",
    "        \n",
    "    EB = min((c*((np.log(2*(1+D)/0.014)/(2*np.pi))**2)-0.5*(v1 + v2)), 3.2) \n",
    "    print(EB)\n",
    "    EM = 0.5*(EB - EZ)\n",
    "    \n",
    "    EP = 0.5*(EB + EZ)\n",
    "    \n",
    "    G = 0\n",
    "    for i in range(len(Data_X)):\n",
    "        E = EM*Data_X[i] + EP\n",
    "        A1 = np.pi*(((E+v1)/c)**0.5)\n",
    "        A2 = np.pi*(((E+v2)/c)**0.5)\n",
    "        FP = np.cosh(A1+A2)\n",
    "        FM = np.cosh(A1-A2)\n",
    "        G += Data_W[i]*np.exp(-E)*(FP-FM)/(FP+D)\n",
    "    G = EM*G+np.exp(-EB)\n",
    "    return(G)"
   ]
  },
  {
   "cell_type": "code",
   "execution_count": 27,
   "id": "83210d2e",
   "metadata": {},
   "outputs": [
    {
     "name": "stdout",
     "output_type": "stream",
     "text": [
      "1.7730345543020718\n"
     ]
    },
    {
     "data": {
      "text/plain": [
       "5.361740809611632"
      ]
     },
     "execution_count": 27,
     "metadata": {},
     "output_type": "execute_result"
    }
   ],
   "source": [
    "eckart(12.53, 49.12, 5.98)"
   ]
  },
  {
   "cell_type": "code",
   "execution_count": null,
   "id": "8c41dd48",
   "metadata": {},
   "outputs": [],
   "source": []
  }
 ],
 "metadata": {
  "kernelspec": {
   "display_name": "Python 3",
   "language": "python",
   "name": "python3"
  },
  "language_info": {
   "codemirror_mode": {
    "name": "ipython",
    "version": 3
   },
   "file_extension": ".py",
   "mimetype": "text/x-python",
   "name": "python",
   "nbconvert_exporter": "python",
   "pygments_lexer": "ipython3",
   "version": "3.9.5"
  }
 },
 "nbformat": 4,
 "nbformat_minor": 5
}
